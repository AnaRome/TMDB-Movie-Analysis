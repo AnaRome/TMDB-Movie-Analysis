{
 "cells": [
  {
   "cell_type": "markdown",
   "metadata": {
    "id": "q-dhQEx3NFlH"
   },
   "source": [
    "# TMDB Movie Data: Are There Attributes That The Most Popular Movies Have In Common?\n",
    "\n",
    "## Table of Contents\n",
    "<ul>\n",
    "<li><a href=\"#intro\">Introduction</a></li>\n",
    "<li><a href=\"#wrangling\">Data Wrangling</a></li>\n",
    "<li><a href=\"#eda\">Exploratory Data Analysis</a></li>\n",
    "<li><a href=\"#conclusions\">Conclusions</a></li>\n",
    "</ul>"
   ]
  },
  {
   "cell_type": "markdown",
   "metadata": {
    "id": "-yZd9hp6NFlU"
   },
   "source": [
    "<a id='intro'></a>\n",
    "## Introduction"
   ]
  },
  {
   "cell_type": "markdown",
   "metadata": {
    "id": "xUizbJ3CNFlW"
   },
   "source": [
    "The dataset chosen for this analysis is the TMDB set which is comprised of information about movies and their attributes."
   ]
  },
  {
   "cell_type": "markdown",
   "metadata": {
    "id": "fGvg_CV5NFlY"
   },
   "source": [
    "With this dataset we will explore movies, their attributes, and whether these attributes correspond with a movies popularity among the audience. What movies produce the most profits and do they have anything in common with one another?"
   ]
  },
  {
   "cell_type": "code",
   "execution_count": 1,
   "metadata": {
    "executionInfo": {
     "elapsed": 692,
     "status": "ok",
     "timestamp": 1645831594656,
     "user": {
      "displayName": "Tashiana Romero",
      "photoUrl": "https://lh3.googleusercontent.com/a-/AOh14Ghc5HUo3P49doUFeWbjqVzXIx3c8kfOQutG5xm2Pw=s64",
      "userId": "03961459994683905773"
     },
     "user_tz": 300
    },
    "id": "lE49mm8uNFla"
   },
   "outputs": [],
   "source": [
    "%matplotlib inline\n",
    "import numpy as np\n",
    "import pandas as pd\n",
    "import matplotlib.pyplot as plt\n",
    "import seaborn as sns"
   ]
  },
  {
   "cell_type": "markdown",
   "metadata": {
    "id": "fvmM0E-vNFlf"
   },
   "source": [
    "<a id='wrangling'></a>\n",
    "## Data Wrangling"
   ]
  },
  {
   "cell_type": "markdown",
   "metadata": {
    "id": "FaMB6Z81NFli"
   },
   "source": [
    "### General Properties"
   ]
  },
  {
   "cell_type": "code",
   "execution_count": 2,
   "metadata": {
    "colab": {
     "base_uri": "https://localhost:8080/",
     "height": 397
    },
    "executionInfo": {
     "elapsed": 536,
     "status": "error",
     "timestamp": 1645831598278,
     "user": {
      "displayName": "Tashiana Romero",
      "photoUrl": "https://lh3.googleusercontent.com/a-/AOh14Ghc5HUo3P49doUFeWbjqVzXIx3c8kfOQutG5xm2Pw=s64",
      "userId": "03961459994683905773"
     },
     "user_tz": 300
    },
    "id": "bPCJpTf1NFlk",
    "outputId": "c0aaf33a-5eb5-4fb7-be2d-d0cbbedb4af3",
    "scrolled": true
   },
   "outputs": [
    {
     "data": {
      "text/html": [
       "<div>\n",
       "<style scoped>\n",
       "    .dataframe tbody tr th:only-of-type {\n",
       "        vertical-align: middle;\n",
       "    }\n",
       "\n",
       "    .dataframe tbody tr th {\n",
       "        vertical-align: top;\n",
       "    }\n",
       "\n",
       "    .dataframe thead th {\n",
       "        text-align: right;\n",
       "    }\n",
       "</style>\n",
       "<table border=\"1\" class=\"dataframe\">\n",
       "  <thead>\n",
       "    <tr style=\"text-align: right;\">\n",
       "      <th></th>\n",
       "      <th>id</th>\n",
       "      <th>imdb_id</th>\n",
       "      <th>popularity</th>\n",
       "      <th>budget</th>\n",
       "      <th>revenue</th>\n",
       "      <th>original_title</th>\n",
       "      <th>cast</th>\n",
       "      <th>homepage</th>\n",
       "      <th>director</th>\n",
       "      <th>tagline</th>\n",
       "      <th>...</th>\n",
       "      <th>overview</th>\n",
       "      <th>runtime</th>\n",
       "      <th>genres</th>\n",
       "      <th>production_companies</th>\n",
       "      <th>release_date</th>\n",
       "      <th>vote_count</th>\n",
       "      <th>vote_average</th>\n",
       "      <th>release_year</th>\n",
       "      <th>budget_adj</th>\n",
       "      <th>revenue_adj</th>\n",
       "    </tr>\n",
       "  </thead>\n",
       "  <tbody>\n",
       "    <tr>\n",
       "      <th>0</th>\n",
       "      <td>135397</td>\n",
       "      <td>tt0369610</td>\n",
       "      <td>32.985763</td>\n",
       "      <td>150000000</td>\n",
       "      <td>1513528810</td>\n",
       "      <td>Jurassic World</td>\n",
       "      <td>Chris Pratt|Bryce Dallas Howard|Irrfan Khan|Vi...</td>\n",
       "      <td>http://www.jurassicworld.com/</td>\n",
       "      <td>Colin Trevorrow</td>\n",
       "      <td>The park is open.</td>\n",
       "      <td>...</td>\n",
       "      <td>Twenty-two years after the events of Jurassic ...</td>\n",
       "      <td>124</td>\n",
       "      <td>Action|Adventure|Science Fiction|Thriller</td>\n",
       "      <td>Universal Studios|Amblin Entertainment|Legenda...</td>\n",
       "      <td>6/9/15</td>\n",
       "      <td>5562</td>\n",
       "      <td>6.5</td>\n",
       "      <td>2015</td>\n",
       "      <td>1.379999e+08</td>\n",
       "      <td>1.392446e+09</td>\n",
       "    </tr>\n",
       "    <tr>\n",
       "      <th>1</th>\n",
       "      <td>76341</td>\n",
       "      <td>tt1392190</td>\n",
       "      <td>28.419936</td>\n",
       "      <td>150000000</td>\n",
       "      <td>378436354</td>\n",
       "      <td>Mad Max: Fury Road</td>\n",
       "      <td>Tom Hardy|Charlize Theron|Hugh Keays-Byrne|Nic...</td>\n",
       "      <td>http://www.madmaxmovie.com/</td>\n",
       "      <td>George Miller</td>\n",
       "      <td>What a Lovely Day.</td>\n",
       "      <td>...</td>\n",
       "      <td>An apocalyptic story set in the furthest reach...</td>\n",
       "      <td>120</td>\n",
       "      <td>Action|Adventure|Science Fiction|Thriller</td>\n",
       "      <td>Village Roadshow Pictures|Kennedy Miller Produ...</td>\n",
       "      <td>5/13/15</td>\n",
       "      <td>6185</td>\n",
       "      <td>7.1</td>\n",
       "      <td>2015</td>\n",
       "      <td>1.379999e+08</td>\n",
       "      <td>3.481613e+08</td>\n",
       "    </tr>\n",
       "    <tr>\n",
       "      <th>2</th>\n",
       "      <td>262500</td>\n",
       "      <td>tt2908446</td>\n",
       "      <td>13.112507</td>\n",
       "      <td>110000000</td>\n",
       "      <td>295238201</td>\n",
       "      <td>Insurgent</td>\n",
       "      <td>Shailene Woodley|Theo James|Kate Winslet|Ansel...</td>\n",
       "      <td>http://www.thedivergentseries.movie/#insurgent</td>\n",
       "      <td>Robert Schwentke</td>\n",
       "      <td>One Choice Can Destroy You</td>\n",
       "      <td>...</td>\n",
       "      <td>Beatrice Prior must confront her inner demons ...</td>\n",
       "      <td>119</td>\n",
       "      <td>Adventure|Science Fiction|Thriller</td>\n",
       "      <td>Summit Entertainment|Mandeville Films|Red Wago...</td>\n",
       "      <td>3/18/15</td>\n",
       "      <td>2480</td>\n",
       "      <td>6.3</td>\n",
       "      <td>2015</td>\n",
       "      <td>1.012000e+08</td>\n",
       "      <td>2.716190e+08</td>\n",
       "    </tr>\n",
       "    <tr>\n",
       "      <th>3</th>\n",
       "      <td>140607</td>\n",
       "      <td>tt2488496</td>\n",
       "      <td>11.173104</td>\n",
       "      <td>200000000</td>\n",
       "      <td>2068178225</td>\n",
       "      <td>Star Wars: The Force Awakens</td>\n",
       "      <td>Harrison Ford|Mark Hamill|Carrie Fisher|Adam D...</td>\n",
       "      <td>http://www.starwars.com/films/star-wars-episod...</td>\n",
       "      <td>J.J. Abrams</td>\n",
       "      <td>Every generation has a story.</td>\n",
       "      <td>...</td>\n",
       "      <td>Thirty years after defeating the Galactic Empi...</td>\n",
       "      <td>136</td>\n",
       "      <td>Action|Adventure|Science Fiction|Fantasy</td>\n",
       "      <td>Lucasfilm|Truenorth Productions|Bad Robot</td>\n",
       "      <td>12/15/15</td>\n",
       "      <td>5292</td>\n",
       "      <td>7.5</td>\n",
       "      <td>2015</td>\n",
       "      <td>1.839999e+08</td>\n",
       "      <td>1.902723e+09</td>\n",
       "    </tr>\n",
       "    <tr>\n",
       "      <th>4</th>\n",
       "      <td>168259</td>\n",
       "      <td>tt2820852</td>\n",
       "      <td>9.335014</td>\n",
       "      <td>190000000</td>\n",
       "      <td>1506249360</td>\n",
       "      <td>Furious 7</td>\n",
       "      <td>Vin Diesel|Paul Walker|Jason Statham|Michelle ...</td>\n",
       "      <td>http://www.furious7.com/</td>\n",
       "      <td>James Wan</td>\n",
       "      <td>Vengeance Hits Home</td>\n",
       "      <td>...</td>\n",
       "      <td>Deckard Shaw seeks revenge against Dominic Tor...</td>\n",
       "      <td>137</td>\n",
       "      <td>Action|Crime|Thriller</td>\n",
       "      <td>Universal Pictures|Original Film|Media Rights ...</td>\n",
       "      <td>4/1/15</td>\n",
       "      <td>2947</td>\n",
       "      <td>7.3</td>\n",
       "      <td>2015</td>\n",
       "      <td>1.747999e+08</td>\n",
       "      <td>1.385749e+09</td>\n",
       "    </tr>\n",
       "  </tbody>\n",
       "</table>\n",
       "<p>5 rows × 21 columns</p>\n",
       "</div>"
      ],
      "text/plain": [
       "       id    imdb_id  popularity     budget     revenue  \\\n",
       "0  135397  tt0369610   32.985763  150000000  1513528810   \n",
       "1   76341  tt1392190   28.419936  150000000   378436354   \n",
       "2  262500  tt2908446   13.112507  110000000   295238201   \n",
       "3  140607  tt2488496   11.173104  200000000  2068178225   \n",
       "4  168259  tt2820852    9.335014  190000000  1506249360   \n",
       "\n",
       "                 original_title  \\\n",
       "0                Jurassic World   \n",
       "1            Mad Max: Fury Road   \n",
       "2                     Insurgent   \n",
       "3  Star Wars: The Force Awakens   \n",
       "4                     Furious 7   \n",
       "\n",
       "                                                cast  \\\n",
       "0  Chris Pratt|Bryce Dallas Howard|Irrfan Khan|Vi...   \n",
       "1  Tom Hardy|Charlize Theron|Hugh Keays-Byrne|Nic...   \n",
       "2  Shailene Woodley|Theo James|Kate Winslet|Ansel...   \n",
       "3  Harrison Ford|Mark Hamill|Carrie Fisher|Adam D...   \n",
       "4  Vin Diesel|Paul Walker|Jason Statham|Michelle ...   \n",
       "\n",
       "                                            homepage          director  \\\n",
       "0                      http://www.jurassicworld.com/   Colin Trevorrow   \n",
       "1                        http://www.madmaxmovie.com/     George Miller   \n",
       "2     http://www.thedivergentseries.movie/#insurgent  Robert Schwentke   \n",
       "3  http://www.starwars.com/films/star-wars-episod...       J.J. Abrams   \n",
       "4                           http://www.furious7.com/         James Wan   \n",
       "\n",
       "                         tagline  ...  \\\n",
       "0              The park is open.  ...   \n",
       "1             What a Lovely Day.  ...   \n",
       "2     One Choice Can Destroy You  ...   \n",
       "3  Every generation has a story.  ...   \n",
       "4            Vengeance Hits Home  ...   \n",
       "\n",
       "                                            overview runtime  \\\n",
       "0  Twenty-two years after the events of Jurassic ...     124   \n",
       "1  An apocalyptic story set in the furthest reach...     120   \n",
       "2  Beatrice Prior must confront her inner demons ...     119   \n",
       "3  Thirty years after defeating the Galactic Empi...     136   \n",
       "4  Deckard Shaw seeks revenge against Dominic Tor...     137   \n",
       "\n",
       "                                      genres  \\\n",
       "0  Action|Adventure|Science Fiction|Thriller   \n",
       "1  Action|Adventure|Science Fiction|Thriller   \n",
       "2         Adventure|Science Fiction|Thriller   \n",
       "3   Action|Adventure|Science Fiction|Fantasy   \n",
       "4                      Action|Crime|Thriller   \n",
       "\n",
       "                                production_companies release_date vote_count  \\\n",
       "0  Universal Studios|Amblin Entertainment|Legenda...       6/9/15       5562   \n",
       "1  Village Roadshow Pictures|Kennedy Miller Produ...      5/13/15       6185   \n",
       "2  Summit Entertainment|Mandeville Films|Red Wago...      3/18/15       2480   \n",
       "3          Lucasfilm|Truenorth Productions|Bad Robot     12/15/15       5292   \n",
       "4  Universal Pictures|Original Film|Media Rights ...       4/1/15       2947   \n",
       "\n",
       "   vote_average  release_year    budget_adj   revenue_adj  \n",
       "0           6.5          2015  1.379999e+08  1.392446e+09  \n",
       "1           7.1          2015  1.379999e+08  3.481613e+08  \n",
       "2           6.3          2015  1.012000e+08  2.716190e+08  \n",
       "3           7.5          2015  1.839999e+08  1.902723e+09  \n",
       "4           7.3          2015  1.747999e+08  1.385749e+09  \n",
       "\n",
       "[5 rows x 21 columns]"
      ]
     },
     "execution_count": 2,
     "metadata": {},
     "output_type": "execute_result"
    }
   ],
   "source": [
    "#Load Data\n",
    "df = pd.read_csv('tmdb-movies.csv')\n",
    "\n",
    "# See what first few lines of data set look like\n",
    "df.head()"
   ]
  },
  {
   "cell_type": "markdown",
   "metadata": {
    "id": "5dUq6S8eNFlr"
   },
   "source": [
    "### Data Cleaning (Replace this with more specific notes!)"
   ]
  },
  {
   "cell_type": "code",
   "execution_count": 3,
   "metadata": {
    "id": "oVDnnsyFNFlt",
    "outputId": "0c845af9-67a0-4641-c244-977ac19fa80e",
    "scrolled": true
   },
   "outputs": [
    {
     "data": {
      "text/plain": [
       "(10866, 21)"
      ]
     },
     "execution_count": 3,
     "metadata": {},
     "output_type": "execute_result"
    }
   ],
   "source": [
    "# How much data am I working with?\n",
    "df.shape"
   ]
  },
  {
   "cell_type": "markdown",
   "metadata": {
    "id": "_D4_w5SRNFlv"
   },
   "source": [
    "There are 10,866 rows individual movies, and 21 columns of movie attributes."
   ]
  },
  {
   "cell_type": "code",
   "execution_count": 4,
   "metadata": {
    "id": "lwj8V5mJNFlz",
    "outputId": "7e32e8c7-0451-4999-a3b5-697f3b7bdc57"
   },
   "outputs": [
    {
     "data": {
      "text/html": [
       "<div>\n",
       "<style scoped>\n",
       "    .dataframe tbody tr th:only-of-type {\n",
       "        vertical-align: middle;\n",
       "    }\n",
       "\n",
       "    .dataframe tbody tr th {\n",
       "        vertical-align: top;\n",
       "    }\n",
       "\n",
       "    .dataframe thead th {\n",
       "        text-align: right;\n",
       "    }\n",
       "</style>\n",
       "<table border=\"1\" class=\"dataframe\">\n",
       "  <thead>\n",
       "    <tr style=\"text-align: right;\">\n",
       "      <th></th>\n",
       "      <th>id</th>\n",
       "      <th>popularity</th>\n",
       "      <th>budget</th>\n",
       "      <th>revenue</th>\n",
       "      <th>runtime</th>\n",
       "      <th>vote_count</th>\n",
       "      <th>vote_average</th>\n",
       "      <th>release_year</th>\n",
       "      <th>budget_adj</th>\n",
       "      <th>revenue_adj</th>\n",
       "    </tr>\n",
       "  </thead>\n",
       "  <tbody>\n",
       "    <tr>\n",
       "      <th>count</th>\n",
       "      <td>10866.000000</td>\n",
       "      <td>10866.000000</td>\n",
       "      <td>1.086600e+04</td>\n",
       "      <td>1.086600e+04</td>\n",
       "      <td>10866.000000</td>\n",
       "      <td>10866.000000</td>\n",
       "      <td>10866.000000</td>\n",
       "      <td>10866.000000</td>\n",
       "      <td>1.086600e+04</td>\n",
       "      <td>1.086600e+04</td>\n",
       "    </tr>\n",
       "    <tr>\n",
       "      <th>mean</th>\n",
       "      <td>66064.177434</td>\n",
       "      <td>0.646441</td>\n",
       "      <td>1.462570e+07</td>\n",
       "      <td>3.982332e+07</td>\n",
       "      <td>102.070863</td>\n",
       "      <td>217.389748</td>\n",
       "      <td>5.974922</td>\n",
       "      <td>2001.322658</td>\n",
       "      <td>1.755104e+07</td>\n",
       "      <td>5.136436e+07</td>\n",
       "    </tr>\n",
       "    <tr>\n",
       "      <th>std</th>\n",
       "      <td>92130.136561</td>\n",
       "      <td>1.000185</td>\n",
       "      <td>3.091321e+07</td>\n",
       "      <td>1.170035e+08</td>\n",
       "      <td>31.381405</td>\n",
       "      <td>575.619058</td>\n",
       "      <td>0.935142</td>\n",
       "      <td>12.812941</td>\n",
       "      <td>3.430616e+07</td>\n",
       "      <td>1.446325e+08</td>\n",
       "    </tr>\n",
       "    <tr>\n",
       "      <th>min</th>\n",
       "      <td>5.000000</td>\n",
       "      <td>0.000065</td>\n",
       "      <td>0.000000e+00</td>\n",
       "      <td>0.000000e+00</td>\n",
       "      <td>0.000000</td>\n",
       "      <td>10.000000</td>\n",
       "      <td>1.500000</td>\n",
       "      <td>1960.000000</td>\n",
       "      <td>0.000000e+00</td>\n",
       "      <td>0.000000e+00</td>\n",
       "    </tr>\n",
       "    <tr>\n",
       "      <th>25%</th>\n",
       "      <td>10596.250000</td>\n",
       "      <td>0.207583</td>\n",
       "      <td>0.000000e+00</td>\n",
       "      <td>0.000000e+00</td>\n",
       "      <td>90.000000</td>\n",
       "      <td>17.000000</td>\n",
       "      <td>5.400000</td>\n",
       "      <td>1995.000000</td>\n",
       "      <td>0.000000e+00</td>\n",
       "      <td>0.000000e+00</td>\n",
       "    </tr>\n",
       "    <tr>\n",
       "      <th>50%</th>\n",
       "      <td>20669.000000</td>\n",
       "      <td>0.383856</td>\n",
       "      <td>0.000000e+00</td>\n",
       "      <td>0.000000e+00</td>\n",
       "      <td>99.000000</td>\n",
       "      <td>38.000000</td>\n",
       "      <td>6.000000</td>\n",
       "      <td>2006.000000</td>\n",
       "      <td>0.000000e+00</td>\n",
       "      <td>0.000000e+00</td>\n",
       "    </tr>\n",
       "    <tr>\n",
       "      <th>75%</th>\n",
       "      <td>75610.000000</td>\n",
       "      <td>0.713817</td>\n",
       "      <td>1.500000e+07</td>\n",
       "      <td>2.400000e+07</td>\n",
       "      <td>111.000000</td>\n",
       "      <td>145.750000</td>\n",
       "      <td>6.600000</td>\n",
       "      <td>2011.000000</td>\n",
       "      <td>2.085325e+07</td>\n",
       "      <td>3.369710e+07</td>\n",
       "    </tr>\n",
       "    <tr>\n",
       "      <th>max</th>\n",
       "      <td>417859.000000</td>\n",
       "      <td>32.985763</td>\n",
       "      <td>4.250000e+08</td>\n",
       "      <td>2.781506e+09</td>\n",
       "      <td>900.000000</td>\n",
       "      <td>9767.000000</td>\n",
       "      <td>9.200000</td>\n",
       "      <td>2015.000000</td>\n",
       "      <td>4.250000e+08</td>\n",
       "      <td>2.827124e+09</td>\n",
       "    </tr>\n",
       "  </tbody>\n",
       "</table>\n",
       "</div>"
      ],
      "text/plain": [
       "                  id    popularity        budget       revenue       runtime  \\\n",
       "count   10866.000000  10866.000000  1.086600e+04  1.086600e+04  10866.000000   \n",
       "mean    66064.177434      0.646441  1.462570e+07  3.982332e+07    102.070863   \n",
       "std     92130.136561      1.000185  3.091321e+07  1.170035e+08     31.381405   \n",
       "min         5.000000      0.000065  0.000000e+00  0.000000e+00      0.000000   \n",
       "25%     10596.250000      0.207583  0.000000e+00  0.000000e+00     90.000000   \n",
       "50%     20669.000000      0.383856  0.000000e+00  0.000000e+00     99.000000   \n",
       "75%     75610.000000      0.713817  1.500000e+07  2.400000e+07    111.000000   \n",
       "max    417859.000000     32.985763  4.250000e+08  2.781506e+09    900.000000   \n",
       "\n",
       "         vote_count  vote_average  release_year    budget_adj   revenue_adj  \n",
       "count  10866.000000  10866.000000  10866.000000  1.086600e+04  1.086600e+04  \n",
       "mean     217.389748      5.974922   2001.322658  1.755104e+07  5.136436e+07  \n",
       "std      575.619058      0.935142     12.812941  3.430616e+07  1.446325e+08  \n",
       "min       10.000000      1.500000   1960.000000  0.000000e+00  0.000000e+00  \n",
       "25%       17.000000      5.400000   1995.000000  0.000000e+00  0.000000e+00  \n",
       "50%       38.000000      6.000000   2006.000000  0.000000e+00  0.000000e+00  \n",
       "75%      145.750000      6.600000   2011.000000  2.085325e+07  3.369710e+07  \n",
       "max     9767.000000      9.200000   2015.000000  4.250000e+08  2.827124e+09  "
      ]
     },
     "execution_count": 4,
     "metadata": {},
     "output_type": "execute_result"
    }
   ],
   "source": [
    "df.describe()"
   ]
  },
  {
   "cell_type": "markdown",
   "metadata": {
    "id": "SsLLH7lBNFl0"
   },
   "source": [
    "In order to determine popularity, I have decided to define success as movies that gained the most profit. Using popularity, vote counts, and vote average seem to have to great a range in the amounts. I have also noticed that the budget and revenue columns have minimum of $0.00 which seems odd."
   ]
  },
  {
   "cell_type": "code",
   "execution_count": 5,
   "metadata": {
    "id": "qipsZcarNFl1",
    "outputId": "7f23bb1b-2e90-4042-8929-ab5ec34e3569"
   },
   "outputs": [
    {
     "name": "stdout",
     "output_type": "stream",
     "text": [
      "<class 'pandas.core.frame.DataFrame'>\n",
      "RangeIndex: 10866 entries, 0 to 10865\n",
      "Data columns (total 21 columns):\n",
      " #   Column                Non-Null Count  Dtype  \n",
      "---  ------                --------------  -----  \n",
      " 0   id                    10866 non-null  int64  \n",
      " 1   imdb_id               10856 non-null  object \n",
      " 2   popularity            10866 non-null  float64\n",
      " 3   budget                10866 non-null  int64  \n",
      " 4   revenue               10866 non-null  int64  \n",
      " 5   original_title        10866 non-null  object \n",
      " 6   cast                  10790 non-null  object \n",
      " 7   homepage              2936 non-null   object \n",
      " 8   director              10822 non-null  object \n",
      " 9   tagline               8042 non-null   object \n",
      " 10  keywords              9373 non-null   object \n",
      " 11  overview              10862 non-null  object \n",
      " 12  runtime               10866 non-null  int64  \n",
      " 13  genres                10843 non-null  object \n",
      " 14  production_companies  9836 non-null   object \n",
      " 15  release_date          10866 non-null  object \n",
      " 16  vote_count            10866 non-null  int64  \n",
      " 17  vote_average          10866 non-null  float64\n",
      " 18  release_year          10866 non-null  int64  \n",
      " 19  budget_adj            10866 non-null  float64\n",
      " 20  revenue_adj           10866 non-null  float64\n",
      "dtypes: float64(4), int64(6), object(11)\n",
      "memory usage: 1.7+ MB\n"
     ]
    }
   ],
   "source": [
    "df.info()"
   ]
  },
  {
   "cell_type": "markdown",
   "metadata": {
    "id": "rsem3fXdNFl3"
   },
   "source": [
    "There are several columns in this data set in which not all will be used during this analysis. There is also a significant amount of null values missing which need to be resolved."
   ]
  },
  {
   "cell_type": "code",
   "execution_count": 6,
   "metadata": {
    "id": "VTlnrWN-NFl3"
   },
   "outputs": [],
   "source": [
    "#Drop columns not to be used for analysis\n",
    "drop_columns = ['id','imdb_id','popularity','cast','homepage',\n",
    "         'director','tagline','overview','runtime',\n",
    "         'production_companies','vote_count','vote_average',\n",
    "        'budget_adj','revenue_adj', 'release_date']\n",
    "df.drop(drop_columns, axis=1, inplace=True )"
   ]
  },
  {
   "cell_type": "code",
   "execution_count": 7,
   "metadata": {
    "id": "89InkwvUNFl5",
    "outputId": "d11276a7-101c-4116-f93f-8f5fe2d6f3de",
    "scrolled": false
   },
   "outputs": [
    {
     "data": {
      "text/html": [
       "<div>\n",
       "<style scoped>\n",
       "    .dataframe tbody tr th:only-of-type {\n",
       "        vertical-align: middle;\n",
       "    }\n",
       "\n",
       "    .dataframe tbody tr th {\n",
       "        vertical-align: top;\n",
       "    }\n",
       "\n",
       "    .dataframe thead th {\n",
       "        text-align: right;\n",
       "    }\n",
       "</style>\n",
       "<table border=\"1\" class=\"dataframe\">\n",
       "  <thead>\n",
       "    <tr style=\"text-align: right;\">\n",
       "      <th></th>\n",
       "      <th>budget</th>\n",
       "      <th>revenue</th>\n",
       "      <th>original_title</th>\n",
       "      <th>keywords</th>\n",
       "      <th>genres</th>\n",
       "      <th>release_year</th>\n",
       "    </tr>\n",
       "  </thead>\n",
       "  <tbody>\n",
       "    <tr>\n",
       "      <th>0</th>\n",
       "      <td>150000000</td>\n",
       "      <td>1513528810</td>\n",
       "      <td>Jurassic World</td>\n",
       "      <td>monster|dna|tyrannosaurus rex|velociraptor|island</td>\n",
       "      <td>Action|Adventure|Science Fiction|Thriller</td>\n",
       "      <td>2015</td>\n",
       "    </tr>\n",
       "    <tr>\n",
       "      <th>1</th>\n",
       "      <td>150000000</td>\n",
       "      <td>378436354</td>\n",
       "      <td>Mad Max: Fury Road</td>\n",
       "      <td>future|chase|post-apocalyptic|dystopia|australia</td>\n",
       "      <td>Action|Adventure|Science Fiction|Thriller</td>\n",
       "      <td>2015</td>\n",
       "    </tr>\n",
       "    <tr>\n",
       "      <th>2</th>\n",
       "      <td>110000000</td>\n",
       "      <td>295238201</td>\n",
       "      <td>Insurgent</td>\n",
       "      <td>based on novel|revolution|dystopia|sequel|dyst...</td>\n",
       "      <td>Adventure|Science Fiction|Thriller</td>\n",
       "      <td>2015</td>\n",
       "    </tr>\n",
       "    <tr>\n",
       "      <th>3</th>\n",
       "      <td>200000000</td>\n",
       "      <td>2068178225</td>\n",
       "      <td>Star Wars: The Force Awakens</td>\n",
       "      <td>android|spaceship|jedi|space opera|3d</td>\n",
       "      <td>Action|Adventure|Science Fiction|Fantasy</td>\n",
       "      <td>2015</td>\n",
       "    </tr>\n",
       "    <tr>\n",
       "      <th>4</th>\n",
       "      <td>190000000</td>\n",
       "      <td>1506249360</td>\n",
       "      <td>Furious 7</td>\n",
       "      <td>car race|speed|revenge|suspense|car</td>\n",
       "      <td>Action|Crime|Thriller</td>\n",
       "      <td>2015</td>\n",
       "    </tr>\n",
       "  </tbody>\n",
       "</table>\n",
       "</div>"
      ],
      "text/plain": [
       "      budget     revenue                original_title  \\\n",
       "0  150000000  1513528810                Jurassic World   \n",
       "1  150000000   378436354            Mad Max: Fury Road   \n",
       "2  110000000   295238201                     Insurgent   \n",
       "3  200000000  2068178225  Star Wars: The Force Awakens   \n",
       "4  190000000  1506249360                     Furious 7   \n",
       "\n",
       "                                            keywords  \\\n",
       "0  monster|dna|tyrannosaurus rex|velociraptor|island   \n",
       "1   future|chase|post-apocalyptic|dystopia|australia   \n",
       "2  based on novel|revolution|dystopia|sequel|dyst...   \n",
       "3              android|spaceship|jedi|space opera|3d   \n",
       "4                car race|speed|revenge|suspense|car   \n",
       "\n",
       "                                      genres  release_year  \n",
       "0  Action|Adventure|Science Fiction|Thriller          2015  \n",
       "1  Action|Adventure|Science Fiction|Thriller          2015  \n",
       "2         Adventure|Science Fiction|Thriller          2015  \n",
       "3   Action|Adventure|Science Fiction|Fantasy          2015  \n",
       "4                      Action|Crime|Thriller          2015  "
      ]
     },
     "execution_count": 7,
     "metadata": {},
     "output_type": "execute_result"
    }
   ],
   "source": [
    "df.head()"
   ]
  },
  {
   "cell_type": "code",
   "execution_count": 8,
   "metadata": {
    "id": "wfBO9neqNFl7",
    "outputId": "592126ba-567b-4790-fc01-b11897f65f53",
    "scrolled": true
   },
   "outputs": [
    {
     "data": {
      "text/html": [
       "<div>\n",
       "<style scoped>\n",
       "    .dataframe tbody tr th:only-of-type {\n",
       "        vertical-align: middle;\n",
       "    }\n",
       "\n",
       "    .dataframe tbody tr th {\n",
       "        vertical-align: top;\n",
       "    }\n",
       "\n",
       "    .dataframe thead th {\n",
       "        text-align: right;\n",
       "    }\n",
       "</style>\n",
       "<table border=\"1\" class=\"dataframe\">\n",
       "  <thead>\n",
       "    <tr style=\"text-align: right;\">\n",
       "      <th></th>\n",
       "      <th>budget</th>\n",
       "      <th>revenue</th>\n",
       "      <th>original_title</th>\n",
       "      <th>keywords</th>\n",
       "      <th>genres</th>\n",
       "      <th>release_year</th>\n",
       "    </tr>\n",
       "  </thead>\n",
       "  <tbody>\n",
       "    <tr>\n",
       "      <th>2090</th>\n",
       "      <td>30000000</td>\n",
       "      <td>967000</td>\n",
       "      <td>TEKKEN</td>\n",
       "      <td>martial arts|dystopia|based on video game|mart...</td>\n",
       "      <td>Crime|Drama|Action|Thriller|Science Fiction</td>\n",
       "      <td>2010</td>\n",
       "    </tr>\n",
       "  </tbody>\n",
       "</table>\n",
       "</div>"
      ],
      "text/plain": [
       "        budget  revenue original_title  \\\n",
       "2090  30000000   967000         TEKKEN   \n",
       "\n",
       "                                               keywords  \\\n",
       "2090  martial arts|dystopia|based on video game|mart...   \n",
       "\n",
       "                                           genres  release_year  \n",
       "2090  Crime|Drama|Action|Thriller|Science Fiction          2010  "
      ]
     },
     "execution_count": 8,
     "metadata": {},
     "output_type": "execute_result"
    }
   ],
   "source": [
    "#Check for duplicates\n",
    "df[df.duplicated()]"
   ]
  },
  {
   "cell_type": "markdown",
   "metadata": {
    "id": "h0i_pr_MNFl9"
   },
   "source": [
    "Since there is a duplicate, we need to remove it."
   ]
  },
  {
   "cell_type": "code",
   "execution_count": 9,
   "metadata": {
    "id": "KNtExzzUNFl-"
   },
   "outputs": [],
   "source": [
    "#Remove duplicate entry\n",
    "df.drop_duplicates(keep='first', inplace=True)"
   ]
  },
  {
   "cell_type": "code",
   "execution_count": 10,
   "metadata": {
    "id": "bbqnI3yeNFl_",
    "outputId": "11730e67-becc-49ec-98e4-f30d39b68764",
    "scrolled": true
   },
   "outputs": [
    {
     "name": "stdout",
     "output_type": "stream",
     "text": [
      "<class 'pandas.core.frame.DataFrame'>\n",
      "Int64Index: 10865 entries, 0 to 10865\n",
      "Data columns (total 6 columns):\n",
      " #   Column          Non-Null Count  Dtype \n",
      "---  ------          --------------  ----- \n",
      " 0   budget          10865 non-null  int64 \n",
      " 1   revenue         10865 non-null  int64 \n",
      " 2   original_title  10865 non-null  object\n",
      " 3   keywords        9372 non-null   object\n",
      " 4   genres          10842 non-null  object\n",
      " 5   release_year    10865 non-null  int64 \n",
      "dtypes: int64(3), object(3)\n",
      "memory usage: 594.2+ KB\n"
     ]
    }
   ],
   "source": [
    "df.info()"
   ]
  },
  {
   "cell_type": "markdown",
   "metadata": {
    "id": "IkquKwp6NFmA"
   },
   "source": [
    "Columns for keywords and genres are missing values. Those null values will stay as I can still determine their popularity.\n",
    "However, the budgets and revenues with 0 should be handled. "
   ]
  },
  {
   "cell_type": "code",
   "execution_count": 11,
   "metadata": {
    "id": "qAM657-ANFmB",
    "outputId": "ff03cb0e-8e3f-48dd-8606-c57566bb32ec",
    "scrolled": true
   },
   "outputs": [
    {
     "data": {
      "text/html": [
       "<div>\n",
       "<style scoped>\n",
       "    .dataframe tbody tr th:only-of-type {\n",
       "        vertical-align: middle;\n",
       "    }\n",
       "\n",
       "    .dataframe tbody tr th {\n",
       "        vertical-align: top;\n",
       "    }\n",
       "\n",
       "    .dataframe thead th {\n",
       "        text-align: right;\n",
       "    }\n",
       "</style>\n",
       "<table border=\"1\" class=\"dataframe\">\n",
       "  <thead>\n",
       "    <tr style=\"text-align: right;\">\n",
       "      <th></th>\n",
       "      <th>budget</th>\n",
       "      <th>revenue</th>\n",
       "      <th>original_title</th>\n",
       "      <th>keywords</th>\n",
       "      <th>genres</th>\n",
       "      <th>release_year</th>\n",
       "    </tr>\n",
       "  </thead>\n",
       "  <tbody>\n",
       "    <tr>\n",
       "      <th>30</th>\n",
       "      <td>0</td>\n",
       "      <td>29355203</td>\n",
       "      <td>Mr. Holmes</td>\n",
       "      <td>london|detective|sherlock holmes</td>\n",
       "      <td>Mystery|Drama</td>\n",
       "      <td>2015</td>\n",
       "    </tr>\n",
       "    <tr>\n",
       "      <th>36</th>\n",
       "      <td>0</td>\n",
       "      <td>22354572</td>\n",
       "      <td>Solace</td>\n",
       "      <td>thriller|serial killer|psychic|fbi agent|intrigue</td>\n",
       "      <td>Crime|Drama|Mystery</td>\n",
       "      <td>2015</td>\n",
       "    </tr>\n",
       "    <tr>\n",
       "      <th>72</th>\n",
       "      <td>0</td>\n",
       "      <td>45895</td>\n",
       "      <td>Beyond the Reach</td>\n",
       "      <td>desert|hunting</td>\n",
       "      <td>Thriller</td>\n",
       "      <td>2015</td>\n",
       "    </tr>\n",
       "    <tr>\n",
       "      <th>74</th>\n",
       "      <td>0</td>\n",
       "      <td>0</td>\n",
       "      <td>Mythica: The Darkspore</td>\n",
       "      <td>sword|magic|sorcery|necromancer|woman director</td>\n",
       "      <td>Action|Adventure|Fantasy</td>\n",
       "      <td>2015</td>\n",
       "    </tr>\n",
       "    <tr>\n",
       "      <th>75</th>\n",
       "      <td>0</td>\n",
       "      <td>0</td>\n",
       "      <td>Me and Earl and the Dying Girl</td>\n",
       "      <td>tattoo|high school|leukemia|friends|parody</td>\n",
       "      <td>Comedy|Drama</td>\n",
       "      <td>2015</td>\n",
       "    </tr>\n",
       "    <tr>\n",
       "      <th>...</th>\n",
       "      <td>...</td>\n",
       "      <td>...</td>\n",
       "      <td>...</td>\n",
       "      <td>...</td>\n",
       "      <td>...</td>\n",
       "      <td>...</td>\n",
       "    </tr>\n",
       "    <tr>\n",
       "      <th>10860</th>\n",
       "      <td>0</td>\n",
       "      <td>0</td>\n",
       "      <td>Carry On Screaming!</td>\n",
       "      <td>monster|carry on|horror spoof</td>\n",
       "      <td>Comedy</td>\n",
       "      <td>1966</td>\n",
       "    </tr>\n",
       "    <tr>\n",
       "      <th>10861</th>\n",
       "      <td>0</td>\n",
       "      <td>0</td>\n",
       "      <td>The Endless Summer</td>\n",
       "      <td>surfer|surfboard|surfing</td>\n",
       "      <td>Documentary</td>\n",
       "      <td>1966</td>\n",
       "    </tr>\n",
       "    <tr>\n",
       "      <th>10862</th>\n",
       "      <td>0</td>\n",
       "      <td>0</td>\n",
       "      <td>Grand Prix</td>\n",
       "      <td>car race|racing|formula 1</td>\n",
       "      <td>Action|Adventure|Drama</td>\n",
       "      <td>1966</td>\n",
       "    </tr>\n",
       "    <tr>\n",
       "      <th>10863</th>\n",
       "      <td>0</td>\n",
       "      <td>0</td>\n",
       "      <td>Beregis Avtomobilya</td>\n",
       "      <td>car|trolley|stealing car</td>\n",
       "      <td>Mystery|Comedy</td>\n",
       "      <td>1966</td>\n",
       "    </tr>\n",
       "    <tr>\n",
       "      <th>10864</th>\n",
       "      <td>0</td>\n",
       "      <td>0</td>\n",
       "      <td>What's Up, Tiger Lily?</td>\n",
       "      <td>spoof</td>\n",
       "      <td>Action|Comedy</td>\n",
       "      <td>1966</td>\n",
       "    </tr>\n",
       "  </tbody>\n",
       "</table>\n",
       "<p>5696 rows × 6 columns</p>\n",
       "</div>"
      ],
      "text/plain": [
       "       budget   revenue                  original_title  \\\n",
       "30          0  29355203                      Mr. Holmes   \n",
       "36          0  22354572                          Solace   \n",
       "72          0     45895                Beyond the Reach   \n",
       "74          0         0          Mythica: The Darkspore   \n",
       "75          0         0  Me and Earl and the Dying Girl   \n",
       "...       ...       ...                             ...   \n",
       "10860       0         0             Carry On Screaming!   \n",
       "10861       0         0              The Endless Summer   \n",
       "10862       0         0                      Grand Prix   \n",
       "10863       0         0             Beregis Avtomobilya   \n",
       "10864       0         0          What's Up, Tiger Lily?   \n",
       "\n",
       "                                                keywords  \\\n",
       "30                      london|detective|sherlock holmes   \n",
       "36     thriller|serial killer|psychic|fbi agent|intrigue   \n",
       "72                                        desert|hunting   \n",
       "74        sword|magic|sorcery|necromancer|woman director   \n",
       "75            tattoo|high school|leukemia|friends|parody   \n",
       "...                                                  ...   \n",
       "10860                      monster|carry on|horror spoof   \n",
       "10861                           surfer|surfboard|surfing   \n",
       "10862                          car race|racing|formula 1   \n",
       "10863                           car|trolley|stealing car   \n",
       "10864                                              spoof   \n",
       "\n",
       "                         genres  release_year  \n",
       "30                Mystery|Drama          2015  \n",
       "36          Crime|Drama|Mystery          2015  \n",
       "72                     Thriller          2015  \n",
       "74     Action|Adventure|Fantasy          2015  \n",
       "75                 Comedy|Drama          2015  \n",
       "...                         ...           ...  \n",
       "10860                    Comedy          1966  \n",
       "10861               Documentary          1966  \n",
       "10862    Action|Adventure|Drama          1966  \n",
       "10863            Mystery|Comedy          1966  \n",
       "10864             Action|Comedy          1966  \n",
       "\n",
       "[5696 rows x 6 columns]"
      ]
     },
     "execution_count": 11,
     "metadata": {},
     "output_type": "execute_result"
    }
   ],
   "source": [
    "#Seeing how many budget entries are 0\n",
    "df[df.budget==0] "
   ]
  },
  {
   "cell_type": "code",
   "execution_count": 12,
   "metadata": {
    "id": "KQusLyzSNFmD",
    "outputId": "87e853b5-ccb2-43f0-baad-2c94428966e9",
    "scrolled": true
   },
   "outputs": [
    {
     "data": {
      "text/html": [
       "<div>\n",
       "<style scoped>\n",
       "    .dataframe tbody tr th:only-of-type {\n",
       "        vertical-align: middle;\n",
       "    }\n",
       "\n",
       "    .dataframe tbody tr th {\n",
       "        vertical-align: top;\n",
       "    }\n",
       "\n",
       "    .dataframe thead th {\n",
       "        text-align: right;\n",
       "    }\n",
       "</style>\n",
       "<table border=\"1\" class=\"dataframe\">\n",
       "  <thead>\n",
       "    <tr style=\"text-align: right;\">\n",
       "      <th></th>\n",
       "      <th>budget</th>\n",
       "      <th>revenue</th>\n",
       "      <th>original_title</th>\n",
       "      <th>keywords</th>\n",
       "      <th>genres</th>\n",
       "      <th>release_year</th>\n",
       "    </tr>\n",
       "  </thead>\n",
       "  <tbody>\n",
       "    <tr>\n",
       "      <th>48</th>\n",
       "      <td>30000000</td>\n",
       "      <td>0</td>\n",
       "      <td>Wild Card</td>\n",
       "      <td>gambling|bodyguard|remake</td>\n",
       "      <td>Thriller|Crime|Drama</td>\n",
       "      <td>2015</td>\n",
       "    </tr>\n",
       "    <tr>\n",
       "      <th>67</th>\n",
       "      <td>20000000</td>\n",
       "      <td>0</td>\n",
       "      <td>Survivor</td>\n",
       "      <td>new year's eve|fire|showdown|terrorist|embassy</td>\n",
       "      <td>Crime|Thriller|Action</td>\n",
       "      <td>2015</td>\n",
       "    </tr>\n",
       "    <tr>\n",
       "      <th>74</th>\n",
       "      <td>0</td>\n",
       "      <td>0</td>\n",
       "      <td>Mythica: The Darkspore</td>\n",
       "      <td>sword|magic|sorcery|necromancer|woman director</td>\n",
       "      <td>Action|Adventure|Fantasy</td>\n",
       "      <td>2015</td>\n",
       "    </tr>\n",
       "    <tr>\n",
       "      <th>75</th>\n",
       "      <td>0</td>\n",
       "      <td>0</td>\n",
       "      <td>Me and Earl and the Dying Girl</td>\n",
       "      <td>tattoo|high school|leukemia|friends|parody</td>\n",
       "      <td>Comedy|Drama</td>\n",
       "      <td>2015</td>\n",
       "    </tr>\n",
       "    <tr>\n",
       "      <th>92</th>\n",
       "      <td>0</td>\n",
       "      <td>0</td>\n",
       "      <td>Mythica: The Necromancer</td>\n",
       "      <td>sword|magic|sorcery|necromancer</td>\n",
       "      <td>Fantasy|Action|Adventure</td>\n",
       "      <td>2015</td>\n",
       "    </tr>\n",
       "    <tr>\n",
       "      <th>...</th>\n",
       "      <td>...</td>\n",
       "      <td>...</td>\n",
       "      <td>...</td>\n",
       "      <td>...</td>\n",
       "      <td>...</td>\n",
       "      <td>...</td>\n",
       "    </tr>\n",
       "    <tr>\n",
       "      <th>10861</th>\n",
       "      <td>0</td>\n",
       "      <td>0</td>\n",
       "      <td>The Endless Summer</td>\n",
       "      <td>surfer|surfboard|surfing</td>\n",
       "      <td>Documentary</td>\n",
       "      <td>1966</td>\n",
       "    </tr>\n",
       "    <tr>\n",
       "      <th>10862</th>\n",
       "      <td>0</td>\n",
       "      <td>0</td>\n",
       "      <td>Grand Prix</td>\n",
       "      <td>car race|racing|formula 1</td>\n",
       "      <td>Action|Adventure|Drama</td>\n",
       "      <td>1966</td>\n",
       "    </tr>\n",
       "    <tr>\n",
       "      <th>10863</th>\n",
       "      <td>0</td>\n",
       "      <td>0</td>\n",
       "      <td>Beregis Avtomobilya</td>\n",
       "      <td>car|trolley|stealing car</td>\n",
       "      <td>Mystery|Comedy</td>\n",
       "      <td>1966</td>\n",
       "    </tr>\n",
       "    <tr>\n",
       "      <th>10864</th>\n",
       "      <td>0</td>\n",
       "      <td>0</td>\n",
       "      <td>What's Up, Tiger Lily?</td>\n",
       "      <td>spoof</td>\n",
       "      <td>Action|Comedy</td>\n",
       "      <td>1966</td>\n",
       "    </tr>\n",
       "    <tr>\n",
       "      <th>10865</th>\n",
       "      <td>19000</td>\n",
       "      <td>0</td>\n",
       "      <td>Manos: The Hands of Fate</td>\n",
       "      <td>fire|gun|drive|sacrifice|flashlight</td>\n",
       "      <td>Horror</td>\n",
       "      <td>1966</td>\n",
       "    </tr>\n",
       "  </tbody>\n",
       "</table>\n",
       "<p>6016 rows × 6 columns</p>\n",
       "</div>"
      ],
      "text/plain": [
       "         budget  revenue                  original_title  \\\n",
       "48     30000000        0                       Wild Card   \n",
       "67     20000000        0                        Survivor   \n",
       "74            0        0          Mythica: The Darkspore   \n",
       "75            0        0  Me and Earl and the Dying Girl   \n",
       "92            0        0        Mythica: The Necromancer   \n",
       "...         ...      ...                             ...   \n",
       "10861         0        0              The Endless Summer   \n",
       "10862         0        0                      Grand Prix   \n",
       "10863         0        0             Beregis Avtomobilya   \n",
       "10864         0        0          What's Up, Tiger Lily?   \n",
       "10865     19000        0        Manos: The Hands of Fate   \n",
       "\n",
       "                                             keywords  \\\n",
       "48                          gambling|bodyguard|remake   \n",
       "67     new year's eve|fire|showdown|terrorist|embassy   \n",
       "74     sword|magic|sorcery|necromancer|woman director   \n",
       "75         tattoo|high school|leukemia|friends|parody   \n",
       "92                    sword|magic|sorcery|necromancer   \n",
       "...                                               ...   \n",
       "10861                        surfer|surfboard|surfing   \n",
       "10862                       car race|racing|formula 1   \n",
       "10863                        car|trolley|stealing car   \n",
       "10864                                           spoof   \n",
       "10865             fire|gun|drive|sacrifice|flashlight   \n",
       "\n",
       "                         genres  release_year  \n",
       "48         Thriller|Crime|Drama          2015  \n",
       "67        Crime|Thriller|Action          2015  \n",
       "74     Action|Adventure|Fantasy          2015  \n",
       "75                 Comedy|Drama          2015  \n",
       "92     Fantasy|Action|Adventure          2015  \n",
       "...                         ...           ...  \n",
       "10861               Documentary          1966  \n",
       "10862    Action|Adventure|Drama          1966  \n",
       "10863            Mystery|Comedy          1966  \n",
       "10864             Action|Comedy          1966  \n",
       "10865                    Horror          1966  \n",
       "\n",
       "[6016 rows x 6 columns]"
      ]
     },
     "execution_count": 12,
     "metadata": {},
     "output_type": "execute_result"
    }
   ],
   "source": [
    "#Seeing how many revenue entries are 0\n",
    "df[df.revenue==0]"
   ]
  },
  {
   "cell_type": "markdown",
   "metadata": {
    "id": "k5syO7IgNFmE"
   },
   "source": [
    "Over half of the data seems to be missing either budget information, revenue information or both. These will be replaced with their median values."
   ]
  },
  {
   "cell_type": "code",
   "execution_count": 13,
   "metadata": {
    "id": "kNvUm9EnNFmE"
   },
   "outputs": [],
   "source": [
    "#Replace all 0's with null values\n",
    "df['budget'] = df['budget'].replace(0, np.nan)\n",
    "df['revenue'] = df['revenue'].replace(0, np.nan)\n",
    "#df['budget','revenue'] = df['budget','revenue'].replace(0, np.NaN)"
   ]
  },
  {
   "cell_type": "code",
   "execution_count": 14,
   "metadata": {
    "id": "hzv7gUIBNFmF",
    "outputId": "d7423fe7-6cfb-4239-c341-331f512f6040"
   },
   "outputs": [
    {
     "name": "stdout",
     "output_type": "stream",
     "text": [
      "<class 'pandas.core.frame.DataFrame'>\n",
      "Int64Index: 10865 entries, 0 to 10865\n",
      "Data columns (total 6 columns):\n",
      " #   Column          Non-Null Count  Dtype  \n",
      "---  ------          --------------  -----  \n",
      " 0   budget          5169 non-null   float64\n",
      " 1   revenue         4849 non-null   float64\n",
      " 2   original_title  10865 non-null  object \n",
      " 3   keywords        9372 non-null   object \n",
      " 4   genres          10842 non-null  object \n",
      " 5   release_year    10865 non-null  int64  \n",
      "dtypes: float64(2), int64(1), object(3)\n",
      "memory usage: 594.2+ KB\n"
     ]
    }
   ],
   "source": [
    "df.info()\n"
   ]
  },
  {
   "cell_type": "code",
   "execution_count": 15,
   "metadata": {
    "id": "jknsLKD1NFmG"
   },
   "outputs": [
    {
     "name": "stderr",
     "output_type": "stream",
     "text": [
      "<ipython-input-15-fb46ab01b9da>:2: FutureWarning: Dropping of nuisance columns in DataFrame reductions (with 'numeric_only=None') is deprecated; in a future version this will raise TypeError.  Select only valid columns before calling the reduction.\n",
      "  df.fillna(df.median(), inplace=True)\n"
     ]
    }
   ],
   "source": [
    "#Replace nulls with median\n",
    "df.fillna(df.median(), inplace=True)"
   ]
  },
  {
   "cell_type": "code",
   "execution_count": 16,
   "metadata": {
    "id": "LGnY-xT6NFmH",
    "outputId": "e936688a-fefc-4041-f6ed-9a25518d2e5d",
    "scrolled": true
   },
   "outputs": [
    {
     "name": "stdout",
     "output_type": "stream",
     "text": [
      "<class 'pandas.core.frame.DataFrame'>\n",
      "Int64Index: 10865 entries, 0 to 10865\n",
      "Data columns (total 6 columns):\n",
      " #   Column          Non-Null Count  Dtype  \n",
      "---  ------          --------------  -----  \n",
      " 0   budget          10865 non-null  float64\n",
      " 1   revenue         10865 non-null  float64\n",
      " 2   original_title  10865 non-null  object \n",
      " 3   keywords        9372 non-null   object \n",
      " 4   genres          10842 non-null  object \n",
      " 5   release_year    10865 non-null  int64  \n",
      "dtypes: float64(2), int64(1), object(3)\n",
      "memory usage: 594.2+ KB\n"
     ]
    }
   ],
   "source": [
    "df.info()"
   ]
  },
  {
   "cell_type": "code",
   "execution_count": 17,
   "metadata": {
    "id": "1ZdwlZc2NFmI",
    "outputId": "e62fd88c-4e58-4337-e03a-1de98e15c204",
    "scrolled": true
   },
   "outputs": [
    {
     "data": {
      "text/html": [
       "<div>\n",
       "<style scoped>\n",
       "    .dataframe tbody tr th:only-of-type {\n",
       "        vertical-align: middle;\n",
       "    }\n",
       "\n",
       "    .dataframe tbody tr th {\n",
       "        vertical-align: top;\n",
       "    }\n",
       "\n",
       "    .dataframe thead th {\n",
       "        text-align: right;\n",
       "    }\n",
       "</style>\n",
       "<table border=\"1\" class=\"dataframe\">\n",
       "  <thead>\n",
       "    <tr style=\"text-align: right;\">\n",
       "      <th></th>\n",
       "      <th>budget</th>\n",
       "      <th>revenue</th>\n",
       "      <th>release_year</th>\n",
       "    </tr>\n",
       "  </thead>\n",
       "  <tbody>\n",
       "    <tr>\n",
       "      <th>count</th>\n",
       "      <td>10865.00</td>\n",
       "      <td>10865.00</td>\n",
       "      <td>10865.00</td>\n",
       "    </tr>\n",
       "    <tr>\n",
       "      <th>mean</th>\n",
       "      <td>23536573.22</td>\n",
       "      <td>57464091.59</td>\n",
       "      <td>2001.32</td>\n",
       "    </tr>\n",
       "    <tr>\n",
       "      <th>std</th>\n",
       "      <td>27696280.96</td>\n",
       "      <td>111967359.47</td>\n",
       "      <td>12.81</td>\n",
       "    </tr>\n",
       "    <tr>\n",
       "      <th>min</th>\n",
       "      <td>1.00</td>\n",
       "      <td>2.00</td>\n",
       "      <td>1960.00</td>\n",
       "    </tr>\n",
       "    <tr>\n",
       "      <th>25%</th>\n",
       "      <td>17000000.00</td>\n",
       "      <td>31853080.00</td>\n",
       "      <td>1995.00</td>\n",
       "    </tr>\n",
       "    <tr>\n",
       "      <th>50%</th>\n",
       "      <td>17000000.00</td>\n",
       "      <td>31853080.00</td>\n",
       "      <td>2006.00</td>\n",
       "    </tr>\n",
       "    <tr>\n",
       "      <th>75%</th>\n",
       "      <td>17000000.00</td>\n",
       "      <td>31853080.00</td>\n",
       "      <td>2011.00</td>\n",
       "    </tr>\n",
       "    <tr>\n",
       "      <th>max</th>\n",
       "      <td>425000000.00</td>\n",
       "      <td>2781505847.00</td>\n",
       "      <td>2015.00</td>\n",
       "    </tr>\n",
       "  </tbody>\n",
       "</table>\n",
       "</div>"
      ],
      "text/plain": [
       "            budget       revenue  release_year\n",
       "count     10865.00      10865.00      10865.00\n",
       "mean   23536573.22   57464091.59       2001.32\n",
       "std    27696280.96  111967359.47         12.81\n",
       "min           1.00          2.00       1960.00\n",
       "25%    17000000.00   31853080.00       1995.00\n",
       "50%    17000000.00   31853080.00       2006.00\n",
       "75%    17000000.00   31853080.00       2011.00\n",
       "max   425000000.00 2781505847.00       2015.00"
      ]
     },
     "execution_count": 17,
     "metadata": {},
     "output_type": "execute_result"
    }
   ],
   "source": [
    "# Turn off scientific notation in Pandas\n",
    "pd.set_option('display.float_format', lambda x: '%.2f' % x)\n",
    "\n",
    "df.describe()"
   ]
  },
  {
   "cell_type": "code",
   "execution_count": 18,
   "metadata": {
    "id": "Y0ZFnFoVNFmJ",
    "outputId": "a2e971eb-1e87-410b-8ca3-f34ddab82a8e"
   },
   "outputs": [
    {
     "data": {
      "image/png": "[encoded data removed]",
      "text/plain": [
       "<Figure size 432x288 with 1 Axes>"
      ]
     },
     "metadata": {
      "needs_background": "light"
     },
     "output_type": "display_data"
    }
   ],
   "source": [
    "df.plot.scatter(x='budget', y='revenue', title ='Revenue vs. Budget')\n",
    " \n",
    "plt.xlabel('Budget ($100M)')\n",
    "plt.ylabel('Revenue ($B)')\n",
    "\n",
    "plt.show()\n"
   ]
  },
  {
   "cell_type": "markdown",
   "metadata": {
    "id": "ZUUV7tC5NFmK"
   },
   "source": [
    "It looks possible that a higher budget can poduce a higher revenue but, the trend is not showing a significant correlation between budget and revenue. "
   ]
  },
  {
   "cell_type": "markdown",
   "metadata": {
    "id": "iaAmW_hHNFmL"
   },
   "source": [
    "Now that the budget and revenue columns have been cleaned, we can take another look at the data and then calculate the profits."
   ]
  },
  {
   "cell_type": "code",
   "execution_count": 19,
   "metadata": {
    "id": "r_b7agD-NFmO",
    "outputId": "4d239bae-1132-4d58-a842-97d04df0480b",
    "scrolled": true
   },
   "outputs": [
    {
     "data": {
      "text/plain": [
       "<seaborn.axisgrid.PairGrid at 0x288feeccac0>"
      ]
     },
     "execution_count": 19,
     "metadata": {},
     "output_type": "execute_result"
    },
    {
     "data": {
      "image/png": "[encoded data removed]",
      "text/plain": [
       "<Figure size 540x540 with 12 Axes>"
      ]
     },
     "metadata": {
      "needs_background": "light"
     },
     "output_type": "display_data"
    }
   ],
   "source": [
    "#Take a look at relationships between data in  clean dataset \n",
    "sns.pairplot(df)"
   ]
  },
  {
   "cell_type": "markdown",
   "metadata": {
    "id": "bYS2qI-iNFmP"
   },
   "source": [
    "Looking at the histograms, budget and revenue are skewed heavily to the left.\n",
    "\n",
    "Looking at the scatter plots, there seems to be a positive correlation between budget, revenue, and release years. As time passes budgets and revenue seem to rise as well.\n",
    "\n",
    "The plots for the release year appear to show that as time progressed, the amount of movies increased as well as the budget and revenue amounts."
   ]
  },
  {
   "cell_type": "code",
   "execution_count": 20,
   "metadata": {
    "id": "jPHx4BiENFmR"
   },
   "outputs": [],
   "source": [
    "#Create new profit column where profit = revenue - budget\n",
    "df['profit'] = df['revenue'] - df['budget']"
   ]
  },
  {
   "cell_type": "markdown",
   "metadata": {
    "id": "1NOVuF5JNFmY"
   },
   "source": [
    "<a id='eda'></a>\n",
    "## Exploratory Data Analysis"
   ]
  },
  {
   "cell_type": "markdown",
   "metadata": {
    "id": "lN47gTwrNFmY"
   },
   "source": [
    "### Is There A Significant Difference Between The Movies With The Highest Profits In Comparison To All Other Movies?"
   ]
  },
  {
   "cell_type": "code",
   "execution_count": 21,
   "metadata": {
    "id": "XZpoO-L9NFma",
    "outputId": "c7bc78bd-75c7-46f3-e832-2c9140460676",
    "scrolled": true
   },
   "outputs": [
    {
     "data": {
      "text/html": [
       "<div>\n",
       "<style scoped>\n",
       "    .dataframe tbody tr th:only-of-type {\n",
       "        vertical-align: middle;\n",
       "    }\n",
       "\n",
       "    .dataframe tbody tr th {\n",
       "        vertical-align: top;\n",
       "    }\n",
       "\n",
       "    .dataframe thead th {\n",
       "        text-align: right;\n",
       "    }\n",
       "</style>\n",
       "<table border=\"1\" class=\"dataframe\">\n",
       "  <thead>\n",
       "    <tr style=\"text-align: right;\">\n",
       "      <th></th>\n",
       "      <th>budget</th>\n",
       "      <th>revenue</th>\n",
       "      <th>release_year</th>\n",
       "      <th>profit</th>\n",
       "    </tr>\n",
       "  </thead>\n",
       "  <tbody>\n",
       "    <tr>\n",
       "      <th>count</th>\n",
       "      <td>10865.00</td>\n",
       "      <td>10865.00</td>\n",
       "      <td>10865.00</td>\n",
       "      <td>10865.00</td>\n",
       "    </tr>\n",
       "    <tr>\n",
       "      <th>mean</th>\n",
       "      <td>23536573.22</td>\n",
       "      <td>57464091.59</td>\n",
       "      <td>2001.32</td>\n",
       "      <td>33927518.37</td>\n",
       "    </tr>\n",
       "    <tr>\n",
       "      <th>std</th>\n",
       "      <td>27696280.96</td>\n",
       "      <td>111967359.47</td>\n",
       "      <td>12.81</td>\n",
       "      <td>94404925.05</td>\n",
       "    </tr>\n",
       "    <tr>\n",
       "      <th>min</th>\n",
       "      <td>1.00</td>\n",
       "      <td>2.00</td>\n",
       "      <td>1960.00</td>\n",
       "      <td>-413912431.00</td>\n",
       "    </tr>\n",
       "    <tr>\n",
       "      <th>25%</th>\n",
       "      <td>17000000.00</td>\n",
       "      <td>31853080.00</td>\n",
       "      <td>1995.00</td>\n",
       "      <td>11853080.00</td>\n",
       "    </tr>\n",
       "    <tr>\n",
       "      <th>50%</th>\n",
       "      <td>17000000.00</td>\n",
       "      <td>31853080.00</td>\n",
       "      <td>2006.00</td>\n",
       "      <td>14853080.00</td>\n",
       "    </tr>\n",
       "    <tr>\n",
       "      <th>75%</th>\n",
       "      <td>17000000.00</td>\n",
       "      <td>31853080.00</td>\n",
       "      <td>2011.00</td>\n",
       "      <td>23653080.00</td>\n",
       "    </tr>\n",
       "    <tr>\n",
       "      <th>max</th>\n",
       "      <td>425000000.00</td>\n",
       "      <td>2781505847.00</td>\n",
       "      <td>2015.00</td>\n",
       "      <td>2544505847.00</td>\n",
       "    </tr>\n",
       "  </tbody>\n",
       "</table>\n",
       "</div>"
      ],
      "text/plain": [
       "            budget       revenue  release_year        profit\n",
       "count     10865.00      10865.00      10865.00      10865.00\n",
       "mean   23536573.22   57464091.59       2001.32   33927518.37\n",
       "std    27696280.96  111967359.47         12.81   94404925.05\n",
       "min           1.00          2.00       1960.00 -413912431.00\n",
       "25%    17000000.00   31853080.00       1995.00   11853080.00\n",
       "50%    17000000.00   31853080.00       2006.00   14853080.00\n",
       "75%    17000000.00   31853080.00       2011.00   23653080.00\n",
       "max   425000000.00 2781505847.00       2015.00 2544505847.00"
      ]
     },
     "execution_count": 21,
     "metadata": {},
     "output_type": "execute_result"
    }
   ],
   "source": [
    "#Get an idea of what profit column consists of for all data\n",
    "df.describe()\n"
   ]
  },
  {
   "cell_type": "code",
   "execution_count": 22,
   "metadata": {
    "id": "_fDRJQD6NFma",
    "outputId": "36ef73b7-2253-4498-bf81-2a9b6eca886e"
   },
   "outputs": [
    {
     "data": {
      "text/plain": [
       "33927518.36778647"
      ]
     },
     "execution_count": 22,
     "metadata": {},
     "output_type": "execute_result"
    }
   ],
   "source": [
    "df['profit'].mean()"
   ]
  },
  {
   "cell_type": "markdown",
   "metadata": {
    "id": "ClZkwZswNFmb"
   },
   "source": [
    "So, the mean profit when looking at all the movies in the data set is 33,927,518 dollars. I wonder if the top 100 movies by profit are higher than this amount."
   ]
  },
  {
   "cell_type": "code",
   "execution_count": 23,
   "metadata": {
    "id": "0WwtneF5NFmb"
   },
   "outputs": [],
   "source": [
    "#Retrieve top 100\n",
    "top_100_by_profit=df.sort_values(by='profit').tail(100)"
   ]
  },
  {
   "cell_type": "code",
   "execution_count": 24,
   "metadata": {
    "id": "1PNgakxoNFmc",
    "outputId": "2d67de54-0807-43c1-ed17-4356e1d152da",
    "scrolled": true
   },
   "outputs": [
    {
     "data": {
      "text/html": [
       "<div>\n",
       "<style scoped>\n",
       "    .dataframe tbody tr th:only-of-type {\n",
       "        vertical-align: middle;\n",
       "    }\n",
       "\n",
       "    .dataframe tbody tr th {\n",
       "        vertical-align: top;\n",
       "    }\n",
       "\n",
       "    .dataframe thead th {\n",
       "        text-align: right;\n",
       "    }\n",
       "</style>\n",
       "<table border=\"1\" class=\"dataframe\">\n",
       "  <thead>\n",
       "    <tr style=\"text-align: right;\">\n",
       "      <th></th>\n",
       "      <th>budget</th>\n",
       "      <th>revenue</th>\n",
       "      <th>release_year</th>\n",
       "      <th>profit</th>\n",
       "    </tr>\n",
       "  </thead>\n",
       "  <tbody>\n",
       "    <tr>\n",
       "      <th>count</th>\n",
       "      <td>100.00</td>\n",
       "      <td>100.00</td>\n",
       "      <td>100.00</td>\n",
       "      <td>100.00</td>\n",
       "    </tr>\n",
       "    <tr>\n",
       "      <th>mean</th>\n",
       "      <td>145458500.00</td>\n",
       "      <td>894017907.02</td>\n",
       "      <td>2007.26</td>\n",
       "      <td>748559407.02</td>\n",
       "    </tr>\n",
       "    <tr>\n",
       "      <th>std</th>\n",
       "      <td>70826024.60</td>\n",
       "      <td>322648939.50</td>\n",
       "      <td>7.81</td>\n",
       "      <td>302714962.66</td>\n",
       "    </tr>\n",
       "    <tr>\n",
       "      <th>min</th>\n",
       "      <td>10500000.00</td>\n",
       "      <td>538400000.00</td>\n",
       "      <td>1977.00</td>\n",
       "      <td>489016565.00</td>\n",
       "    </tr>\n",
       "    <tr>\n",
       "      <th>25%</th>\n",
       "      <td>93750000.00</td>\n",
       "      <td>709798041.50</td>\n",
       "      <td>2004.00</td>\n",
       "      <td>569441935.50</td>\n",
       "    </tr>\n",
       "    <tr>\n",
       "      <th>50%</th>\n",
       "      <td>150000000.00</td>\n",
       "      <td>807963716.50</td>\n",
       "      <td>2009.50</td>\n",
       "      <td>660413731.00</td>\n",
       "    </tr>\n",
       "    <tr>\n",
       "      <th>75%</th>\n",
       "      <td>200000000.00</td>\n",
       "      <td>959050000.00</td>\n",
       "      <td>2013.00</td>\n",
       "      <td>799844502.25</td>\n",
       "    </tr>\n",
       "    <tr>\n",
       "      <th>max</th>\n",
       "      <td>380000000.00</td>\n",
       "      <td>2781505847.00</td>\n",
       "      <td>2015.00</td>\n",
       "      <td>2544505847.00</td>\n",
       "    </tr>\n",
       "  </tbody>\n",
       "</table>\n",
       "</div>"
      ],
      "text/plain": [
       "            budget       revenue  release_year        profit\n",
       "count       100.00        100.00        100.00        100.00\n",
       "mean  145458500.00  894017907.02       2007.26  748559407.02\n",
       "std    70826024.60  322648939.50          7.81  302714962.66\n",
       "min    10500000.00  538400000.00       1977.00  489016565.00\n",
       "25%    93750000.00  709798041.50       2004.00  569441935.50\n",
       "50%   150000000.00  807963716.50       2009.50  660413731.00\n",
       "75%   200000000.00  959050000.00       2013.00  799844502.25\n",
       "max   380000000.00 2781505847.00       2015.00 2544505847.00"
      ]
     },
     "execution_count": 24,
     "metadata": {},
     "output_type": "execute_result"
    }
   ],
   "source": [
    "#Get an idea of what data in top 100 movies looks like\n",
    "top_100_by_profit.describe()\n"
   ]
  },
  {
   "cell_type": "code",
   "execution_count": 25,
   "metadata": {
    "id": "yacihVQRNFmd",
    "outputId": "1851d137-4534-4cc5-fd86-659700c819f3"
   },
   "outputs": [
    {
     "data": {
      "text/plain": [
       "748559407.02"
      ]
     },
     "execution_count": 25,
     "metadata": {},
     "output_type": "execute_result"
    }
   ],
   "source": [
    "top_100_by_profit['profit'].mean()"
   ]
  },
  {
   "cell_type": "code",
   "execution_count": 26,
   "metadata": {
    "id": "DadUEuYaNFme",
    "outputId": "ed28de13-61af-40fa-f770-bd227f700d62"
   },
   "outputs": [
    {
     "data": {
      "text/plain": [
       "489016565.0"
      ]
     },
     "execution_count": 26,
     "metadata": {},
     "output_type": "execute_result"
    }
   ],
   "source": [
    "top_100_by_profit['profit'].min()\n"
   ]
  },
  {
   "cell_type": "markdown",
   "metadata": {
    "id": "XOQrNoD4NFmf"
   },
   "source": [
    "The top 100 movies' minimum profit amount of 489,016,565 dollars and a mean of 748,559,407 dollars are much higher than the mean of all the movies together. "
   ]
  },
  {
   "cell_type": "markdown",
   "metadata": {
    "id": "s6i17Ae-NFmf"
   },
   "source": [
    "### Does a Particular Genre Appear More in the Top 100 Movies?"
   ]
  },
  {
   "cell_type": "code",
   "execution_count": 27,
   "metadata": {
    "id": "7sTTT8kuNFmg",
    "outputId": "260a49b3-386a-4be5-e226-feaeb7879cfd"
   },
   "outputs": [
    {
     "data": {
      "text/plain": [
       "str"
      ]
     },
     "execution_count": 27,
     "metadata": {},
     "output_type": "execute_result"
    }
   ],
   "source": [
    "#Check type of genre column\n",
    "type(df['genres'][0])"
   ]
  },
  {
   "cell_type": "code",
   "execution_count": 28,
   "metadata": {
    "id": "HUBJLGXsNFmg",
    "outputId": "02cad6c4-ecc3-45bd-ceff-f6f60c2627cd"
   },
   "outputs": [
    {
     "name": "stdout",
     "output_type": "stream",
     "text": [
      "Action|Adventure|Science Fiction|Thriller\n"
     ]
    }
   ],
   "source": [
    "#See what data in a field looks like \n",
    "print(df['genres'][0])"
   ]
  },
  {
   "cell_type": "code",
   "execution_count": 29,
   "metadata": {
    "id": "K5LoojHQNFmi"
   },
   "outputs": [],
   "source": [
    "# Separate the words and see which ones are used most to\n",
    "#describe top 100 movies genres\n",
    "genres_count = pd.Series(np.concatenate([str(x).upper()\n",
    "                                         .strip().split('|')for x in top_100_by_profit\n",
    "                                         .genres])).value_counts()"
   ]
  },
  {
   "cell_type": "code",
   "execution_count": 30,
   "metadata": {
    "id": "Tg0JtDKtNFmj",
    "outputId": "45fa5832-ce9c-4924-ec89-f33a926ac0b6",
    "scrolled": true
   },
   "outputs": [
    {
     "name": "stdout",
     "output_type": "stream",
     "text": [
      "ADVENTURE          73\n",
      "ACTION             52\n",
      "FANTASY            39\n",
      "SCIENCE FICTION    32\n",
      "FAMILY             31\n",
      "ANIMATION          19\n",
      "THRILLER           18\n",
      "DRAMA              15\n",
      "COMEDY             15\n",
      "ROMANCE             9\n",
      "CRIME               7\n",
      "MYSTERY             5\n",
      "WAR                 1\n",
      "dtype: int64\n"
     ]
    }
   ],
   "source": [
    "print(genres_count)"
   ]
  },
  {
   "cell_type": "code",
   "execution_count": 31,
   "metadata": {
    "id": "e94A6dOLNFmj",
    "outputId": "1642a2d0-18f1-4930-e584-76c324633b07",
    "scrolled": true
   },
   "outputs": [
    {
     "data": {
      "image/png": "[encoded data removed]",
      "text/plain": [
       "<Figure size 432x288 with 1 Axes>"
      ]
     },
     "metadata": {
      "needs_background": "light"
     },
     "output_type": "display_data"
    }
   ],
   "source": [
    "#Create bar graph\n",
    "ax = genres_count.plot(kind ='barh')\n",
    "#Label the graph\n",
    "ax.set_title('Popular Genres from Top 100 Movies')\n",
    "ax.set_xlabel('Genres')\n",
    "ax.set_ylabel('Number of Times Genre Was Counted')\n",
    "\n",
    "plt.show()\n"
   ]
  },
  {
   "cell_type": "markdown",
   "metadata": {
    "id": "_CJqueDHNFmk"
   },
   "source": [
    "Adventure is the most common genre in the top 100 movies followed by action."
   ]
  },
  {
   "cell_type": "markdown",
   "metadata": {
    "id": "Vrtdh--XNFmk"
   },
   "source": [
    "### Do Particular Keywords Appear More in the Top 100 Movies?"
   ]
  },
  {
   "cell_type": "code",
   "execution_count": 32,
   "metadata": {
    "id": "0c8QeLgKNFml"
   },
   "outputs": [],
   "source": [
    "# Separate the words and see which ones are used most to\n",
    "#describe top 100 movies keywords\n",
    "keywords_count = pd.Series(np.concatenate([str(x).upper()\n",
    "                                         .strip().split('|')for x \n",
    "                                         in top_100_by_profit.keywords])).value_counts()\n"
   ]
  },
  {
   "cell_type": "code",
   "execution_count": 33,
   "metadata": {
    "id": "j70JjYIsNFml",
    "outputId": "2c38cc00-ff29-4ba0-f7e5-fe22f090b3a2",
    "scrolled": true
   },
   "outputs": [
    {
     "name": "stdout",
     "output_type": "stream",
     "text": [
      "MARVEL COMIC          9\n",
      "SEQUEL                9\n",
      "BASED ON NOVEL        9\n",
      "ORCS                  6\n",
      "3D                    6\n",
      "                     ..\n",
      "ASTRONAUT             1\n",
      "TRAPPED IN SPACE      1\n",
      "HALLUCINATION         1\n",
      "FEMALE PROTAGONIST    1\n",
      "SOCIETY               1\n",
      "Length: 339, dtype: int64\n"
     ]
    }
   ],
   "source": [
    "print(keywords_count)"
   ]
  },
  {
   "cell_type": "code",
   "execution_count": 34,
   "metadata": {
    "id": "CFyvMCcnNFmm"
   },
   "outputs": [],
   "source": [
    "#Get top 10 words as there are 339 different words\n",
    "top_keywords=keywords_count.nlargest(10)"
   ]
  },
  {
   "cell_type": "code",
   "execution_count": 35,
   "metadata": {
    "id": "_d93-sjoNFmn",
    "outputId": "15490da2-2478-46ef-bc48-f59607f1b0ca",
    "scrolled": true
   },
   "outputs": [
    {
     "data": {
      "image/png": "[encoded data removed]",
      "text/plain": [
       "<Figure size 432x288 with 1 Axes>"
      ]
     },
     "metadata": {},
     "output_type": "display_data"
    }
   ],
   "source": [
    "#Create pie chart\n",
    "ax = top_keywords.plot(kind='pie')\n",
    "#Title chart\n",
    "#Create bar graph\n",
    "#ax = genres_count.plot(kind ='bar')\n",
    "#Label the graph\n",
    "ax.set_title('Popular Keywords from Top 100 Movies')\n",
    "ax.set_xlabel('Keywords')\n",
    "ax.set_ylabel('')\n",
    "\n",
    "plt.show()\n"
   ]
  },
  {
   "cell_type": "markdown",
   "metadata": {
    "id": "SvvseoRQNFmo"
   },
   "source": [
    "Audiences seem to see more movies that are based on a novel, from a marvel comic, or a sequel to another movie."
   ]
  },
  {
   "cell_type": "markdown",
   "metadata": {
    "id": "w_bln6N5NFmo"
   },
   "source": [
    "<a id='conclusions'></a>\n",
    "## Conclusions\n",
    "\n",
    "After analyzing the movie data set for trends concerning profits, genres, and keywords, there does seem to be some insights to be gained.\n",
    "\n",
    "There is a difference in profits made by all movies in comparison to the top 100 movies with the highest profits. The difference in means was more than 700,000,000 dollars where the top 100 movies profited more than the majority of the other movies.\n",
    "\n",
    "The data also shows that out of the top 100 movies, adventure was the most popular genre and 'based on a novel', 'marvel comic', 'sequel' were the most common keywords.\n",
    "\n",
    "## Limitations\n",
    "\n",
    "One of the limitations of this analysis was the budget and revenue amounts which had more than half of the values as 0. If they were deleted, there would have been less that half of the dataset to work with. \n",
    "\n",
    "There were also some missing values from the keywords and genres columns. \n",
    "\n",
    "This sample dataset of movies includes the years of 1960 to 2015 so, it is unknown whether the audience would still be drawn to the same types of movies in the years 2016 to 2020. The top 100 movies could be completely different.\n",
    "\n",
    "\n",
    "An additional limitation of this analysis was the lack of a statistical test to test any of the results found."
   ]
  },
  {
   "cell_type": "markdown",
   "metadata": {
    "collapsed": true,
    "id": "IU9VcI3BNFmp"
   },
   "source": [
    "## Resource List \n",
    ">https://www.storybench.org/getting-started-with-python-and-jupyter-notebooks-for-data-analysis/\n",
    ">\n",
    ">https://thispointer.com/pandas-find-duplicate-rows-in-a-dataframe-based-on-all-or-selected-columns-using-dataframe-duplicated-in-python/\n",
    ">\n",
    ">https://vitalflux.com/pandas-impute-missing-values-mean-median-mode/\n",
    ">\n",
    ">https://stackoverflow.com/questions/28931224/adding-value-labels-on-a-matplotlib-bar-chart"
   ]
  }
 ],
 "metadata": {
  "colab": {
   "name": "investigate-a-movie-dataset.ipynb",
   "provenance": []
  },
  "kernelspec": {
   "display_name": "Python 3",
   "language": "python",
   "name": "python3"
  },
  "language_info": {
   "codemirror_mode": {
    "name": "ipython",
    "version": 3
   },
   "file_extension": ".py",
   "mimetype": "text/x-python",
   "name": "python",
   "nbconvert_exporter": "python",
   "pygments_lexer": "ipython3",
   "version": "3.8.8"
  }
 },
 "nbformat": 4,
 "nbformat_minor": 1
}
